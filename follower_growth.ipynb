{
 "cells": [
  {
   "cell_type": "code",
   "execution_count": null,
   "id": "e4c10584-e3d2-4b4f-84c6-9a3a384d264a",
   "metadata": {},
   "outputs": [],
   "source": [
    "# Import libraries\n",
    "import pandas as pd\n",
    "import matplotlib.pyplot as plt\n",
    "import seaborn as sns\n",
    "from sklearn.linear_model import LinearRegression\n",
    "import numpy as np\n",
    "\n",
    "# Load dataset\n",
    "df = pd.read_csv(r\"C:\\Users\\SAHITI\\Documents\\Instagram_Follower_Analysis\\followers.csv\")\n",
    "df['date'] = pd.to_datetime(df['date'])\n",
    "\n",
    "# Plot follower growth over time\n",
    "plt.figure(figsize=(10,5))\n",
    "sns.lineplot(data=df, x='date', y='followers', marker='o')\n",
    "plt.title(\"Instagram Follower Growth Over Time\")\n",
    "plt.xlabel(\"Date\")\n",
    "plt.ylabel(\"Number of Followers\")\n",
    "plt.xticks(rotation=45)\n",
    "plt.grid(True)\n",
    "plt.show()\n",
    "\n",
    "# Optional: Predict future followers using simple linear regression\n",
    "df['days'] = (df['date'] - df['date'].min()).dt.days\n",
    "X = df[['days']]\n",
    "y = df['followers']\n",
    "\n",
    "model = LinearRegression()\n",
    "model.fit(X, y)\n",
    "\n",
    "# Predict next 7 days\n",
    "future_days = np.array(range(df['days'].max()+1, df['days'].max()+8)).reshape(-1,1)\n",
    "future_preds = model.predict(future_days)\n",
    "\n",
    "# Visualize prediction\n",
    "plt.figure(figsize=(10,5))\n",
    "plt.plot(df['date'], df['followers'], marker='o', label='Actual')\n",
    "future_dates = pd.date_range(df['date'].max() + pd.Timedelta(days=1), periods=7)\n",
    "plt.plot(future_dates, future_preds, marker='x', linestyle='--', label='Predicted')\n",
    "plt.title(\"Instagram Follower Growth Prediction\")\n",
    "plt.xlabel(\"Date\")\n",
    "plt.ylabel(\"Number of Followers\")\n",
    "plt.xticks(rotation=45)\n",
    "plt.legend()\n",
    "plt.grid(True)\n",
    "plt.show()"
   ]
  },
  {
   "cell_type": "code",
   "execution_count": null,
   "id": "765d9ce5-3dd4-4eaf-b1f3-3dcb5f57bb8f",
   "metadata": {},
   "outputs": [],
   "source": []
  },
  {
   "cell_type": "code",
   "execution_count": null,
   "id": "d0110627-1615-44ec-85f6-1ab62a8e5c47",
   "metadata": {},
   "outputs": [],
   "source": []
  }
 ],
 "metadata": {
  "kernelspec": {
   "display_name": "Python 3 (ipykernel)",
   "language": "python",
   "name": "python3"
  },
  "language_info": {
   "codemirror_mode": {
    "name": "ipython",
    "version": 3
   },
   "file_extension": ".py",
   "mimetype": "text/x-python",
   "name": "python",
   "nbconvert_exporter": "python",
   "pygments_lexer": "ipython3",
   "version": "3.10.18"
  }
 },
 "nbformat": 4,
 "nbformat_minor": 5
}
